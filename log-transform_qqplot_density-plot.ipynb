{
 "cells": [
  {
   "cell_type": "markdown",
   "id": "5504788c",
   "metadata": {},
   "source": [
    "Code used to log base 10 transform the data from each treatment group within each mitochondrial metric"
   ]
  },
  {
   "cell_type": "code",
   "execution_count": null,
   "id": "00116a5b",
   "metadata": {},
   "outputs": [],
   "source": [
    "import math\n",
    "import pandas as pd"
   ]
  },
  {
   "cell_type": "code",
   "execution_count": null,
   "id": "d1fb8b9a",
   "metadata": {},
   "outputs": [],
   "source": [
    "cols = ['Treatment-naïve (mouse 260) ',\n",
    "       'AC Residual (mouse 278) ', 'DTX Residual (mouse 257) ',\n",
    "       'CRB Residual (mouse 268) ', 'DTX+CRB Residual (mouse 270)']"
   ]
  },
  {
   "cell_type": "code",
   "execution_count": null,
   "id": "9f02e03b",
   "metadata": {},
   "outputs": [],
   "source": [
    "variables = [\"area\", \"length\", \"mbi\", \"mci\", \"perimeter\", \"sphericity\", \"volume\", \"width\"]\n",
    "df_dict = {}\n",
    "for variable in variables:\n",
    "    df_dict[variable] = pd.read_csv(variable + \"_data.csv\", header = 1)[cols]"
   ]
  },
  {
   "cell_type": "code",
   "execution_count": null,
   "id": "1c638b5a",
   "metadata": {},
   "outputs": [],
   "source": [
    "log_df_dict = {}\n",
    "for variable in variables:\n",
    "    log_df_dict[variable] = df_dict[variable].applymap(math.log10)"
   ]
  },
  {
   "cell_type": "markdown",
   "id": "f746ccf4",
   "metadata": {},
   "source": [
    "Code used to generate qqplots as a test of normality for both the untransformed and log base 10 transformed data from each treatment group within each mitochondrial metric"
   ]
  },
  {
   "cell_type": "code",
   "execution_count": null,
   "id": "d0cd69ab",
   "metadata": {},
   "outputs": [],
   "source": [
    "import statsmodels.api as sm"
   ]
  },
  {
   "cell_type": "code",
   "execution_count": null,
   "id": "0af32792",
   "metadata": {},
   "outputs": [],
   "source": [
    "for variable in variables:\n",
    "    raw_figs = []\n",
    "    transformed_figs = []\n",
    "    for col in cols:\n",
    "        raw_fig = sm.qqplot(df_dict[variable][col], line = \"s\")\n",
    "        plt.title(variable + \", \" + col)\n",
    "        raw_figs += [raw_fig]\n",
    "        \n",
    "        transformed_fig = sm.qqplot(log_df_dict[variable][col], line = \"s\")\n",
    "        plt.title(variable + \", \" + col)\n",
    "        transformed_figs += [transformed_fig]\n",
    "\n",
    "    \n",
    "    with PdfPages(\"qqplots/raw/raw_\" + variable + '_qqplots.pdf') as pdf:\n",
    "        for fig in raw_figs:\n",
    "            pdf.savefig(fig, bbox_inches='tight') \n",
    "            plt.close(fig)\n",
    "        \n",
    "    with PdfPages(\"qqplots/transformed/transformed_\" + variable + '_qqplots.pdf') as pdf:    \n",
    "        for fig in transformed_figs:\n",
    "            pdf.savefig(fig, bbox_inches='tight') \n",
    "            plt.close(fig)\n"
   ]
  },
  {
   "cell_type": "markdown",
   "id": "d318c8b7",
   "metadata": {},
   "source": [
    "Code used to generate kernel density estimate plots on the log base 10 transformed data for each treatment group within each mitochondrial metric"
   ]
  },
  {
   "cell_type": "code",
   "execution_count": null,
   "id": "89a70033",
   "metadata": {},
   "outputs": [],
   "source": [
    "import seaborn as sns\n",
    "import matplotlib.pyplot as plt\n",
    "import statistics"
   ]
  },
  {
   "cell_type": "code",
   "execution_count": null,
   "id": "b1af2626",
   "metadata": {},
   "outputs": [],
   "source": [
    "order = [\"Treatment-naïve\", \"AC Residual\", \"DTX+CRB Residual\", \"DTX Residual\", \"CRB Residual\"]"
   ]
  },
  {
   "cell_type": "code",
   "execution_count": null,
   "id": "7661d294",
   "metadata": {},
   "outputs": [],
   "source": [
    "colors = {\n",
    "    \"Treatment-naïve\": \"tab:gray\",\n",
    "    \"AC Residual\": \"tab:red\",\n",
    "    \"DTX Residual\": \"tab:green\",\n",
    "    \"CRB Residual\": \"tab:purple\",\n",
    "    \"DTX+CRB Residual\": \"tab:blue\"\n",
    "}"
   ]
  },
  {
   "cell_type": "code",
   "execution_count": null,
   "id": "c0bf7750",
   "metadata": {},
   "outputs": [],
   "source": [
    "for variable in variables:\n",
    "    df = log_df_dict[variable]\n",
    "    naive_median = statistics.median(df['Treatment-naïve (mouse 260) '])\n",
    "    long_df = pd.DataFrame(columns = [\"treatment\", \"value\"])\n",
    "    \n",
    "    treatment = []\n",
    "    value = []\n",
    "    \n",
    "    for col in df.columns:\n",
    "        value += list(df[col])\n",
    "        treatment += [col[:col.index(\" (\")] for i in range(len(df[col]))]\n",
    "        \n",
    "    long_df[\"treatment\"] = treatment\n",
    "    long_df[\"value\"] = value\n",
    "    \n",
    "    dimensions_dict = {\"wide\": {\"height\": 3, \"aspect\": 1}, \"skinny\": {\"height\": 1.7, \"aspect\": 4}}\n",
    "    \n",
    "    for size in dimensions_dict.keys():\n",
    "        plot = sns.FacetGrid(long_df, row = \"treatment\", row_order = order, hue = \"treatment\", palette = colors, hue_order = order,\n",
    "                         height=dimensions_dict[size][\"height\"], aspect=dimensions_dict[size][\"height\"], legend_out = True)\n",
    "        plot.refline(x=naive_median)\n",
    "        plot.map(sns.kdeplot, \"value\", fill = True)\n",
    "        plot.add_legend(title = \"\")\n",
    "        plot.set_titles(template = \"\")\n",
    "        plot.set_axis_labels(x_var = variable[0].upper() + variable[1:], y_var = \"\")\n",
    "\n",
    "        plt.savefig(\"final_plots/\"+ variable + \"_log_densityplot_stacked_\" + size + \".pdf\", bbox_inches = \"tight\")\n",
    "        plt.clf()\n",
    "    \n",
    "  "
   ]
  }
 ],
 "metadata": {
  "kernelspec": {
   "display_name": "Python 3 (ipykernel)",
   "language": "python",
   "name": "python3"
  },
  "language_info": {
   "codemirror_mode": {
    "name": "ipython",
    "version": 3
   },
   "file_extension": ".py",
   "mimetype": "text/x-python",
   "name": "python",
   "nbconvert_exporter": "python",
   "pygments_lexer": "ipython3",
   "version": "3.10.13"
  }
 },
 "nbformat": 4,
 "nbformat_minor": 5
}
