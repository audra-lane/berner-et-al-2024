{
 "cells": [
  {
   "cell_type": "code",
   "execution_count": null,
   "id": "9f9941ef",
   "metadata": {},
   "outputs": [],
   "source": [
    "#Code to run the Mann-Whitney U test that compared the different treatment groups for each mitochondrial metric"
   ]
  },
  {
   "cell_type": "code",
   "execution_count": null,
   "id": "4cd276f3",
   "metadata": {},
   "outputs": [],
   "source": [
    "import pandas as pd\n",
    "import scipy\n",
    "from scipy import stats\n",
    "import statsmodels\n",
    "from statsmodels import stats\n",
    "from statsmodels.stats import multitest"
   ]
  },
  {
   "cell_type": "code",
   "execution_count": null,
   "id": "e69cc599",
   "metadata": {},
   "outputs": [],
   "source": [
    "cols = ['Treatment-naïve (mouse 260) ',\n",
    "       'AC Residual (mouse 278) ', 'DTX Residual (mouse 257) ',\n",
    "       'CRB Residual (mouse 268) ', 'DTX+CRB Residual (mouse 270)']"
   ]
  },
  {
   "cell_type": "code",
   "execution_count": null,
   "id": "942ff9ae",
   "metadata": {},
   "outputs": [],
   "source": [
    "variables = [\"area\", \"length\", \"mbi\", \"mci\", \"perimeter\", \"sphericity\", \"volume\", \"width\"]\n",
    "df_dict = {}\n",
    "for variable in variables:\n",
    "    df_dict[variable] = pd.read_csv(variable + \"_data.csv\", header = 1)[cols]"
   ]
  },
  {
   "cell_type": "code",
   "execution_count": null,
   "id": "b37154d1",
   "metadata": {},
   "outputs": [],
   "source": [
    "for variable in variables:\n",
    "    df = df_dict[variable]\n",
    "    t1s = []\n",
    "    t2s = []\n",
    "    u1s = []\n",
    "    u2s = []\n",
    "    ps = []\n",
    "    \n",
    "    for i in range(len(df.columns)):\n",
    "        t1 = df.columns[i]\n",
    "        for j in range(i+1, len(df.columns)):\n",
    "            t1s += [t1]\n",
    "            t2 = df.columns[j]\n",
    "            t2s += [t2]\n",
    "            \n",
    "            results = scipy.stats.mannwhitneyu(df[t1], df[t2])\n",
    "            u1 = results[0]\n",
    "            u1s += [u1]\n",
    "            u2 = len(df[t1])*len(df[t2]) - u1\n",
    "            u2s += [u2]\n",
    "            ps += [results[1]]\n",
    "    \n",
    "    results_df = pd.DataFrame()\n",
    "    results_df[\"Treatment 1\"] = t1s\n",
    "    results_df[\"Treatment 2\"] = t2s\n",
    "    results_df[\"Treatment 1 U statistic\"] = u1s\n",
    "    results_df[\"Treatment 2 U statistic\"] = u2s\n",
    "    results_df[\"p value\"] = ps\n",
    "    results_df[\"p adj\"] = statsmodels.stats.multitest.multipletests(results_df[\"p value\"], alpha = 0.05, method = \"holm\")[1]\n",
    "    \n",
    "    results_df.to_csv(\"mannwhitney/\" + variable + \"_mannwhitney.csv\")\n",
    "    "
   ]
  }
 ],
 "metadata": {
  "kernelspec": {
   "display_name": "Python 3 (ipykernel)",
   "language": "python",
   "name": "python3"
  },
  "language_info": {
   "codemirror_mode": {
    "name": "ipython",
    "version": 3
   },
   "file_extension": ".py",
   "mimetype": "text/x-python",
   "name": "python",
   "nbconvert_exporter": "python",
   "pygments_lexer": "ipython3",
   "version": "3.10.13"
  }
 },
 "nbformat": 4,
 "nbformat_minor": 5
}
