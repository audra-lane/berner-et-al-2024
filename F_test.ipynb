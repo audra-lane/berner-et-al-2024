{
 "cells": [
  {
   "cell_type": "code",
   "execution_count": 1,
   "id": "dbfc8005",
   "metadata": {},
   "outputs": [],
   "source": [
    "#Code to run the F test that compared the variances of the different treatment groups for each mitochondrial metric"
   ]
  },
  {
   "cell_type": "code",
   "execution_count": null,
   "id": "81d562a8",
   "metadata": {},
   "outputs": [],
   "source": [
    "import pandas as pd\n",
    "import scipy\n",
    "from scipy import stats\n",
    "import statistics\n",
    "import statsmodels.stats.multitest"
   ]
  },
  {
   "cell_type": "code",
   "execution_count": null,
   "id": "4e6cdbb4",
   "metadata": {},
   "outputs": [],
   "source": [
    "cols = ['Treatment-naïve (mouse 260) ',\n",
    "       'AC Residual (mouse 278) ', 'DTX Residual (mouse 257) ',\n",
    "       'CRB Residual (mouse 268) ', 'DTX+CRB Residual (mouse 270)']"
   ]
  },
  {
   "cell_type": "code",
   "execution_count": null,
   "id": "741896bf",
   "metadata": {},
   "outputs": [],
   "source": [
    "variables = [\"area\", \"length\", \"mbi\", \"mci\", \"perimeter\", \"sphericity\", \"volume\", \"width\"]\n",
    "df_dict = {}\n",
    "for variable in variables:\n",
    "    df_dict[variable] = pd.read_csv(variable + \"_data.csv\", header = 1)[cols]"
   ]
  },
  {
   "cell_type": "code",
   "execution_count": null,
   "id": "e5972ac6",
   "metadata": {},
   "outputs": [],
   "source": [
    "for variable in variables:\n",
    "    df = df_dict[variable]\n",
    "    t1s = []\n",
    "    v1s = []\n",
    "    t2s = []\n",
    "    v2s = []\n",
    "    fs = []\n",
    "    cdf = []\n",
    "    for i in range(len(df.columns)):\n",
    "        t1 = df.columns[i]\n",
    "        v1 = statistics.variance(df[t1])\n",
    "        for j in range(i+1, len(df.columns)):\n",
    "            t1s += [df.columns[i]]\n",
    "            v1s += [v1]\n",
    "            t2s += [df.columns[j]]\n",
    "            t2 = df.columns[j]\n",
    "            v2 = statistics.variance(df[t2])\n",
    "            v2s += [v2]\n",
    "        \n",
    "            f = v1/v2\n",
    "            fs += [f]\n",
    "        \n",
    "            cdf += [stats.f.cdf(f, 1, 698)]\n",
    "            \n",
    "            #do the opposite direction\n",
    "\n",
    "            t1s += [t2]\n",
    "            t2s += [t1]\n",
    "            v1s += [v2]\n",
    "            v2s += [v1]\n",
    "            \n",
    "            f = v2/v1\n",
    "            fs += [f]\n",
    "        \n",
    "            cdf += [stats.f.cdf(f, 1, 698)]\n",
    "            \n",
    "            \n",
    "            \n",
    "    f_results = pd.DataFrame()\n",
    "    f_results[\"Treatment 1\"] = t1s\n",
    "    f_results[\"Treatment 1 Variance\"] = v1s\n",
    "    f_results[\"Treatment 2\"] = t2s\n",
    "    f_results[\"Treatment 2 Variance\"] = v2s\n",
    "    f_results[\"F\"] = fs\n",
    "    f_results[\"cdf\"] = cdf\n",
    "    f_results[\"p_values (1 - cdf)\"] = [1-x for x in cdf]\n",
    "    f_results[\"p_adj\"] = statsmodels.stats.multitest.multipletests(f_results[\"p_values (1 - cdf)\"], alpha = 0.05, method = \"holm\")[1]\n",
    "        \n",
    "    f_results.to_csv(variable + \"_f_results.csv\")"
   ]
  }
 ],
 "metadata": {
  "kernelspec": {
   "display_name": "Python 3 (ipykernel)",
   "language": "python",
   "name": "python3"
  },
  "language_info": {
   "codemirror_mode": {
    "name": "ipython",
    "version": 3
   },
   "file_extension": ".py",
   "mimetype": "text/x-python",
   "name": "python",
   "nbconvert_exporter": "python",
   "pygments_lexer": "ipython3",
   "version": "3.10.13"
  }
 },
 "nbformat": 4,
 "nbformat_minor": 5
}
